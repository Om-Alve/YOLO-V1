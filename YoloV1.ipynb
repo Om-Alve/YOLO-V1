{
 "cells": [
  {
   "cell_type": "code",
   "execution_count": 1,
   "id": "b68bd15c-2804-4320-8c75-63a542556c3a",
   "metadata": {
    "tags": []
   },
   "outputs": [],
   "source": [
    "import torch\n",
    "import torch.nn as nn\n",
    "import numpy as np\n",
    "import matplotlib.pyplot as plt"
   ]
  },
  {
   "cell_type": "code",
   "execution_count": 54,
   "id": "bf3ab07d-955e-48d9-81eb-e71cd87a220f",
   "metadata": {
    "tags": []
   },
   "outputs": [],
   "source": [
    "class ConvBlock(nn.Module):\n",
    "    def __init__(self,inchannels,outchannels,kernel_size,stride,padding):\n",
    "        super().__init__()\n",
    "        self.block = nn.Sequential(\n",
    "            nn.Conv2d(inchannels,outchannels,kernel_size,stride,padding),\n",
    "            nn.BatchNorm2d(outchannels),\n",
    "            nn.ReLU(),\n",
    "        )\n",
    "    def forward(self,x):\n",
    "        return self.block(x)\n",
    "    \n",
    "class YOLOv1(nn.Module):\n",
    "    def __init__(self):\n",
    "        super().__init__()\n",
    "        self.convs = nn.Sequential(\n",
    "            ConvBlock(3,64,7,2,3),\n",
    "            nn.MaxPool2d(kernel_size=2,stride=2,padding=1),\n",
    "            ConvBlock(64,192,3,1,0),\n",
    "            nn.MaxPool2d(kernel_size=2,stride=2,padding=1),\n",
    "\n",
    "            ConvBlock(192,128,1,1,0),\n",
    "            ConvBlock(128,256,3,1,0),\n",
    "            ConvBlock(256,256,1,1,0),\n",
    "            ConvBlock(256,512,1,1,0),\n",
    "            nn.MaxPool2d(kernel_size=2,stride=2,padding=1),\n",
    "\n",
    "            ConvBlock(512,256,1,1,0),\n",
    "            ConvBlock(256,512,3,1,1),\n",
    "            ConvBlock(512,256,1,1,0),\n",
    "            ConvBlock(256,512,3,1,1),\n",
    "            ConvBlock(512,256,1,1,0),\n",
    "            ConvBlock(256,512,3,1,1),\n",
    "            ConvBlock(512,256,1,1,0),\n",
    "            ConvBlock(256,512,3,1,1),\n",
    "            ConvBlock(512,512,1,1,0),\n",
    "            ConvBlock(512,1024,3,1,0),\n",
    "            nn.MaxPool2d(kernel_size=2,stride=2,padding=1),\n",
    "\n",
    "            ConvBlock(1024,512,1,1,0),\n",
    "            ConvBlock(512,1024,1,1,1),\n",
    "            ConvBlock(1024,512,1,1,0),\n",
    "            ConvBlock(512,1024,1,1,1),\n",
    "            ConvBlock(1024,1024,3,1,0),\n",
    "            ConvBlock(1024,1024,3,2,0),\n",
    "\n",
    "            ConvBlock(1024,1024,3,1,1),\n",
    "            ConvBlock(1024,1024,3,1,1),\n",
    "\n",
    "        )\n",
    "        self.fcfn = nn.Sequential(\n",
    "            nn.Flatten(start_dim=1),\n",
    "            nn.Linear(7 * 7 * 1024,4096),\n",
    "            nn.ReLU(),\n",
    "            nn.Linear(4096,7*7*30),\n",
    "        )\n",
    "    def forward(self,x):\n",
    "        x = self.convs(x)\n",
    "        x = self.fcfn(x)\n",
    "        return x"
   ]
  },
  {
   "cell_type": "code",
   "execution_count": 55,
   "id": "f4b8df8e-3032-4d2f-b9d2-adc5fbbd1ec8",
   "metadata": {
    "tags": []
   },
   "outputs": [
    {
     "data": {
      "text/plain": [
       "torch.Size([1, 7, 7, 30])"
      ]
     },
     "execution_count": 55,
     "metadata": {},
     "output_type": "execute_result"
    }
   ],
   "source": [
    "model = YOLOv1()\n",
    "model(torch.randn((1,3,448,448))).view(1,7,7,30).shape"
   ]
  },
  {
   "cell_type": "code",
   "execution_count": 56,
   "id": "769efafe-c22e-4308-9877-47baab93ab78",
   "metadata": {
    "tags": []
   },
   "outputs": [
    {
     "data": {
      "text/plain": [
       "262.292734"
      ]
     },
     "execution_count": 56,
     "metadata": {},
     "output_type": "execute_result"
    }
   ],
   "source": [
    "sum([p.numel() for p in model.parameters()]) / 1e6"
   ]
  },
  {
   "cell_type": "code",
   "execution_count": null,
   "id": "6ea95af3-8bab-43ba-bed2-67b75ed28442",
   "metadata": {},
   "outputs": [],
   "source": []
  }
 ],
 "metadata": {
  "kernelspec": {
   "display_name": "pytorch",
   "language": "python",
   "name": "myenv"
  },
  "language_info": {
   "codemirror_mode": {
    "name": "ipython",
    "version": 3
   },
   "file_extension": ".py",
   "mimetype": "text/x-python",
   "name": "python",
   "nbconvert_exporter": "python",
   "pygments_lexer": "ipython3",
   "version": "3.11.5"
  }
 },
 "nbformat": 4,
 "nbformat_minor": 5
}
